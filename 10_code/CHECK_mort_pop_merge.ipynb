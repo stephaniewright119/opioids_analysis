{
 "cells": [
  {
   "cell_type": "code",
   "execution_count": 1,
   "metadata": {},
   "outputs": [],
   "source": [
    "import pandas as pd"
   ]
  },
  {
   "cell_type": "code",
   "execution_count": 2,
   "metadata": {},
   "outputs": [],
   "source": [
    "pop_df = pd.read_parquet(\"../00_data/population/population.parquet\")"
   ]
  },
  {
   "cell_type": "code",
   "execution_count": 3,
   "metadata": {},
   "outputs": [
    {
     "data": {
      "text/html": [
       "<div>\n",
       "<style scoped>\n",
       "    .dataframe tbody tr th:only-of-type {\n",
       "        vertical-align: middle;\n",
       "    }\n",
       "\n",
       "    .dataframe tbody tr th {\n",
       "        vertical-align: top;\n",
       "    }\n",
       "\n",
       "    .dataframe thead th {\n",
       "        text-align: right;\n",
       "    }\n",
       "</style>\n",
       "<table border=\"1\" class=\"dataframe\">\n",
       "  <thead>\n",
       "    <tr style=\"text-align: right;\">\n",
       "      <th></th>\n",
       "      <th>FIPS_CODE</th>\n",
       "      <th>REGION</th>\n",
       "      <th>DIVISION</th>\n",
       "      <th>ST_NAME</th>\n",
       "      <th>CTY_NAME</th>\n",
       "      <th>Year</th>\n",
       "      <th>Population</th>\n",
       "    </tr>\n",
       "  </thead>\n",
       "  <tbody>\n",
       "    <tr>\n",
       "      <th>9309</th>\n",
       "      <td>01001</td>\n",
       "      <td>3</td>\n",
       "      <td>6</td>\n",
       "      <td>Alabama</td>\n",
       "      <td>Autauga County</td>\n",
       "      <td>2003</td>\n",
       "      <td>46800</td>\n",
       "    </tr>\n",
       "    <tr>\n",
       "      <th>9310</th>\n",
       "      <td>01003</td>\n",
       "      <td>3</td>\n",
       "      <td>6</td>\n",
       "      <td>Alabama</td>\n",
       "      <td>Baldwin County</td>\n",
       "      <td>2003</td>\n",
       "      <td>151509</td>\n",
       "    </tr>\n",
       "    <tr>\n",
       "      <th>9311</th>\n",
       "      <td>01005</td>\n",
       "      <td>3</td>\n",
       "      <td>6</td>\n",
       "      <td>Alabama</td>\n",
       "      <td>Barbour County</td>\n",
       "      <td>2003</td>\n",
       "      <td>28594</td>\n",
       "    </tr>\n",
       "    <tr>\n",
       "      <th>9312</th>\n",
       "      <td>01007</td>\n",
       "      <td>3</td>\n",
       "      <td>6</td>\n",
       "      <td>Alabama</td>\n",
       "      <td>Bibb County</td>\n",
       "      <td>2003</td>\n",
       "      <td>21399</td>\n",
       "    </tr>\n",
       "    <tr>\n",
       "      <th>9313</th>\n",
       "      <td>01009</td>\n",
       "      <td>3</td>\n",
       "      <td>6</td>\n",
       "      <td>Alabama</td>\n",
       "      <td>Blount County</td>\n",
       "      <td>2003</td>\n",
       "      <td>53457</td>\n",
       "    </tr>\n",
       "  </tbody>\n",
       "</table>\n",
       "</div>"
      ],
      "text/plain": [
       "     FIPS_CODE  REGION  DIVISION  ST_NAME        CTY_NAME  Year  Population\n",
       "9309     01001       3         6  Alabama  Autauga County  2003       46800\n",
       "9310     01003       3         6  Alabama  Baldwin County  2003      151509\n",
       "9311     01005       3         6  Alabama  Barbour County  2003       28594\n",
       "9312     01007       3         6  Alabama     Bibb County  2003       21399\n",
       "9313     01009       3         6  Alabama   Blount County  2003       53457"
      ]
     },
     "execution_count": 3,
     "metadata": {},
     "output_type": "execute_result"
    }
   ],
   "source": [
    "pop_df = pop_df[(pop_df[\"Year\"] > 2002) & (pop_df[\"Year\"] < 2016)]\n",
    "pop_df.head()"
   ]
  },
  {
   "cell_type": "code",
   "execution_count": 4,
   "metadata": {},
   "outputs": [
    {
     "data": {
      "text/html": [
       "<div>\n",
       "<style scoped>\n",
       "    .dataframe tbody tr th:only-of-type {\n",
       "        vertical-align: middle;\n",
       "    }\n",
       "\n",
       "    .dataframe tbody tr th {\n",
       "        vertical-align: top;\n",
       "    }\n",
       "\n",
       "    .dataframe thead th {\n",
       "        text-align: right;\n",
       "    }\n",
       "</style>\n",
       "<table border=\"1\" class=\"dataframe\">\n",
       "  <thead>\n",
       "    <tr style=\"text-align: right;\">\n",
       "      <th></th>\n",
       "      <th>County</th>\n",
       "      <th>State</th>\n",
       "      <th>FIPS_CODE</th>\n",
       "      <th>Year</th>\n",
       "      <th>Deaths</th>\n",
       "    </tr>\n",
       "  </thead>\n",
       "  <tbody>\n",
       "    <tr>\n",
       "      <th>0</th>\n",
       "      <td>Baldwin County</td>\n",
       "      <td>AL</td>\n",
       "      <td>1003</td>\n",
       "      <td>2003</td>\n",
       "      <td>10.0</td>\n",
       "    </tr>\n",
       "    <tr>\n",
       "      <th>1</th>\n",
       "      <td>Jefferson County</td>\n",
       "      <td>AL</td>\n",
       "      <td>1073</td>\n",
       "      <td>2003</td>\n",
       "      <td>37.0</td>\n",
       "    </tr>\n",
       "    <tr>\n",
       "      <th>2</th>\n",
       "      <td>Jefferson County</td>\n",
       "      <td>AL</td>\n",
       "      <td>1073</td>\n",
       "      <td>2003</td>\n",
       "      <td>32.0</td>\n",
       "    </tr>\n",
       "    <tr>\n",
       "      <th>3</th>\n",
       "      <td>Mobile County</td>\n",
       "      <td>AL</td>\n",
       "      <td>1097</td>\n",
       "      <td>2003</td>\n",
       "      <td>26.0</td>\n",
       "    </tr>\n",
       "    <tr>\n",
       "      <th>6</th>\n",
       "      <td>Cochise County</td>\n",
       "      <td>AZ</td>\n",
       "      <td>4003</td>\n",
       "      <td>2003</td>\n",
       "      <td>11.0</td>\n",
       "    </tr>\n",
       "  </tbody>\n",
       "</table>\n",
       "</div>"
      ],
      "text/plain": [
       "             County State  FIPS_CODE  Year  Deaths\n",
       "0    Baldwin County    AL       1003  2003    10.0\n",
       "1  Jefferson County    AL       1073  2003    37.0\n",
       "2  Jefferson County    AL       1073  2003    32.0\n",
       "3     Mobile County    AL       1097  2003    26.0\n",
       "6    Cochise County    AZ       4003  2003    11.0"
      ]
     },
     "execution_count": 4,
     "metadata": {},
     "output_type": "execute_result"
    }
   ],
   "source": [
    "mort_df = pd.read_csv(\"../00_data/all_death_causes_2003_2015.csv\")\n",
    "mort_df = mort_df[mort_df[\"State\"] != \"AK\"]\n",
    "mort_df = mort_df[mort_df[\"State\"] != \"CT\"]\n",
    "mort_df.head()"
   ]
  },
  {
   "cell_type": "code",
   "execution_count": 5,
   "metadata": {},
   "outputs": [
    {
     "name": "stdout",
     "output_type": "stream",
     "text": [
      "(37236, 7)\n",
      "(8819, 5)\n"
     ]
    }
   ],
   "source": [
    "print(pop_df.shape)\n",
    "print(mort_df.shape)"
   ]
  },
  {
   "cell_type": "code",
   "execution_count": 6,
   "metadata": {},
   "outputs": [
    {
     "data": {
      "text/plain": [
       "Year\n",
       "2003    3103\n",
       "2004    3103\n",
       "2005    3103\n",
       "2006    3103\n",
       "2007    3103\n",
       "2008    3103\n",
       "2010    3103\n",
       "2011    3103\n",
       "2012    3103\n",
       "2013    3103\n",
       "2014    3103\n",
       "2015    3103\n",
       "Name: count, dtype: int64"
      ]
     },
     "execution_count": 6,
     "metadata": {},
     "output_type": "execute_result"
    }
   ],
   "source": [
    "pop_df[\"Year\"].value_counts()"
   ]
  },
  {
   "cell_type": "code",
   "execution_count": 7,
   "metadata": {},
   "outputs": [
    {
     "data": {
      "text/plain": [
       "Year\n",
       "2015    871\n",
       "2014    818\n",
       "2013    770\n",
       "2011    759\n",
       "2012    738\n",
       "2010    714\n",
       "2008    653\n",
       "2009    651\n",
       "2007    641\n",
       "2006    623\n",
       "2005    572\n",
       "2004    530\n",
       "2003    479\n",
       "Name: count, dtype: int64"
      ]
     },
     "execution_count": 7,
     "metadata": {},
     "output_type": "execute_result"
    }
   ],
   "source": [
    "mort_df[\"Year\"].value_counts()"
   ]
  },
  {
   "cell_type": "code",
   "execution_count": 10,
   "metadata": {},
   "outputs": [
    {
     "name": "stdout",
     "output_type": "stream",
     "text": [
      "(37958, 11)\n",
      "_merge\n",
      "left_only     30926\n",
      "both           7032\n",
      "right_only        0\n",
      "Name: count, dtype: int64\n"
     ]
    },
    {
     "data": {
      "text/html": [
       "<div>\n",
       "<style scoped>\n",
       "    .dataframe tbody tr th:only-of-type {\n",
       "        vertical-align: middle;\n",
       "    }\n",
       "\n",
       "    .dataframe tbody tr th {\n",
       "        vertical-align: top;\n",
       "    }\n",
       "\n",
       "    .dataframe thead th {\n",
       "        text-align: right;\n",
       "    }\n",
       "</style>\n",
       "<table border=\"1\" class=\"dataframe\">\n",
       "  <thead>\n",
       "    <tr style=\"text-align: right;\">\n",
       "      <th></th>\n",
       "      <th>FIPS_CODE</th>\n",
       "      <th>REGION</th>\n",
       "      <th>DIVISION</th>\n",
       "      <th>ST_NAME</th>\n",
       "      <th>CTY_NAME</th>\n",
       "      <th>Year</th>\n",
       "      <th>Population</th>\n",
       "    </tr>\n",
       "  </thead>\n",
       "  <tbody>\n",
       "    <tr>\n",
       "      <th>0</th>\n",
       "      <td>01001</td>\n",
       "      <td>3</td>\n",
       "      <td>6</td>\n",
       "      <td>Alabama</td>\n",
       "      <td>Autauga County</td>\n",
       "      <td>2003</td>\n",
       "      <td>46800</td>\n",
       "    </tr>\n",
       "    <tr>\n",
       "      <th>1</th>\n",
       "      <td>01003</td>\n",
       "      <td>3</td>\n",
       "      <td>6</td>\n",
       "      <td>Alabama</td>\n",
       "      <td>Baldwin County</td>\n",
       "      <td>2003</td>\n",
       "      <td>151509</td>\n",
       "    </tr>\n",
       "    <tr>\n",
       "      <th>2</th>\n",
       "      <td>01005</td>\n",
       "      <td>3</td>\n",
       "      <td>6</td>\n",
       "      <td>Alabama</td>\n",
       "      <td>Barbour County</td>\n",
       "      <td>2003</td>\n",
       "      <td>28594</td>\n",
       "    </tr>\n",
       "    <tr>\n",
       "      <th>3</th>\n",
       "      <td>01007</td>\n",
       "      <td>3</td>\n",
       "      <td>6</td>\n",
       "      <td>Alabama</td>\n",
       "      <td>Bibb County</td>\n",
       "      <td>2003</td>\n",
       "      <td>21399</td>\n",
       "    </tr>\n",
       "    <tr>\n",
       "      <th>4</th>\n",
       "      <td>01009</td>\n",
       "      <td>3</td>\n",
       "      <td>6</td>\n",
       "      <td>Alabama</td>\n",
       "      <td>Blount County</td>\n",
       "      <td>2003</td>\n",
       "      <td>53457</td>\n",
       "    </tr>\n",
       "  </tbody>\n",
       "</table>\n",
       "</div>"
      ],
      "text/plain": [
       "  FIPS_CODE  REGION  DIVISION  ST_NAME        CTY_NAME  Year  Population\n",
       "0     01001       3         6  Alabama  Autauga County  2003       46800\n",
       "1     01003       3         6  Alabama  Baldwin County  2003      151509\n",
       "2     01005       3         6  Alabama  Barbour County  2003       28594\n",
       "3     01007       3         6  Alabama     Bibb County  2003       21399\n",
       "4     01009       3         6  Alabama   Blount County  2003       53457"
      ]
     },
     "execution_count": 10,
     "metadata": {},
     "output_type": "execute_result"
    }
   ],
   "source": [
    "mort_df[\"FIPS_CODE\"] = mort_df[\"FIPS_CODE\"].astype(str)\n",
    "pop_df[\"FIPS_CODE\"] = pop_df[\"FIPS_CODE\"].astype(str)\n",
    "\n",
    "merged_df = pd.merge(\n",
    "    pop_df,\n",
    "    mort_df,\n",
    "    how=\"left\",\n",
    "    on=[\"FIPS_CODE\", \"Year\"],\n",
    "    indicator=True,\n",
    ")\n",
    "print(merged_df.shape)\n",
    "print(merged_df[\"_merge\"].value_counts())\n",
    "merged_df = merged_df.iloc[:, :7]\n",
    "merged_df.head()\n",
    "\n",
    "# so those that are left only imply they are rows that are missing mortality data"
   ]
  }
 ],
 "metadata": {
  "kernelspec": {
   "display_name": "base",
   "language": "python",
   "name": "python3"
  },
  "language_info": {
   "codemirror_mode": {
    "name": "ipython",
    "version": 3
   },
   "file_extension": ".py",
   "mimetype": "text/x-python",
   "name": "python",
   "nbconvert_exporter": "python",
   "pygments_lexer": "ipython3",
   "version": "3.12.6"
  }
 },
 "nbformat": 4,
 "nbformat_minor": 2
}
